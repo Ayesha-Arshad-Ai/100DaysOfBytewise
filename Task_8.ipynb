{
  "nbformat": 4,
  "nbformat_minor": 0,
  "metadata": {
    "colab": {
      "provenance": []
    },
    "kernelspec": {
      "name": "python3",
      "display_name": "Python 3"
    },
    "language_info": {
      "name": "python"
    }
  },
  "cells": [
    {
      "cell_type": "markdown",
      "source": [
        "# Iterators & Iterables"
      ],
      "metadata": {
        "id": "clitmQI7oeHc"
      }
    },
    {
      "cell_type": "code",
      "execution_count": 2,
      "metadata": {
        "colab": {
          "base_uri": "https://localhost:8080/"
        },
        "id": "wPmtTqrQnaoV",
        "outputId": "12ef94e4-af00-4d36-dcfc-27e3c74400b0"
      },
      "outputs": [
        {
          "output_type": "stream",
          "name": "stdout",
          "text": [
            "A\n",
            "B\n",
            "C\n"
          ]
        }
      ],
      "source": [
        "items = [ \"A\", \"B\", \"C\" ]\n",
        "it = iter(items)\n",
        "print(next(it))\n",
        "print(next(it))\n",
        "print(next(it))\n"
      ]
    },
    {
      "cell_type": "markdown",
      "source": [
        "# Custom Iterator (Count 1 → N)"
      ],
      "metadata": {
        "id": "h9TuSl5ppKY5"
      }
    },
    {
      "cell_type": "code",
      "source": [
        "class CountToN:\n",
        "    def __init__(self, n):\n",
        "        self.i = 1\n",
        "        self.n = n\n",
        "    def __iter__(self):\n",
        "        return self\n",
        "    def __next__(self):\n",
        "        if self.i <= self.n:\n",
        "            val = self.i\n",
        "            self.i += 1\n",
        "            return val\n",
        "        raise StopIteration\n",
        "\n",
        "print(list(CountToN(3)))"
      ],
      "metadata": {
        "colab": {
          "base_uri": "https://localhost:8080/"
        },
        "id": "0hF6QeaFpBuY",
        "outputId": "7ef15484-652c-4d7b-cbe4-6c992c677d1d"
      },
      "execution_count": 3,
      "outputs": [
        {
          "output_type": "stream",
          "name": "stdout",
          "text": [
            "[1, 2, 3]\n"
          ]
        }
      ]
    },
    {
      "cell_type": "markdown",
      "source": [
        "# Generator Function (Countdown)"
      ],
      "metadata": {
        "id": "uxfVeJp-pVwP"
      }
    },
    {
      "cell_type": "code",
      "source": [
        "\n",
        "def countdown(n):\n",
        "    while n > 0:\n",
        "        yield n\n",
        "        n -= 1\n",
        "\n",
        "print(list(countdown(3)))\n"
      ],
      "metadata": {
        "colab": {
          "base_uri": "https://localhost:8080/"
        },
        "id": "rAtUNW1_pBrA",
        "outputId": "232bfb52-f56c-4121-ffca-5f4bee273642"
      },
      "execution_count": 4,
      "outputs": [
        {
          "output_type": "stream",
          "name": "stdout",
          "text": [
            "[3, 2, 1]\n"
          ]
        }
      ]
    },
    {
      "cell_type": "markdown",
      "source": [
        "# Generator Expression (Squares)"
      ],
      "metadata": {
        "id": "R7KcRU_qpnJ0"
      }
    },
    {
      "cell_type": "code",
      "source": [
        "squares = (x*x for x in [1,2,3])\n",
        "print(list(squares))\n",
        "\n"
      ],
      "metadata": {
        "colab": {
          "base_uri": "https://localhost:8080/"
        },
        "id": "-1GwQbkLpBnu",
        "outputId": "0666ca8a-8d6a-4fd8-fac6-385a42231a24"
      },
      "execution_count": 5,
      "outputs": [
        {
          "output_type": "stream",
          "name": "stdout",
          "text": [
            "[1, 4, 9]\n"
          ]
        }
      ]
    },
    {
      "cell_type": "markdown",
      "source": [
        "# Cumulative Sum"
      ],
      "metadata": {
        "id": "9aE9D2Vmpsjv"
      }
    },
    {
      "cell_type": "code",
      "source": [
        "def cum_sum(seq):\n",
        "    total = 0\n",
        "    for x in seq:\n",
        "        total += x\n",
        "        yield total\n",
        "\n",
        "print(list(cum_sum([2,5,3])))"
      ],
      "metadata": {
        "colab": {
          "base_uri": "https://localhost:8080/"
        },
        "id": "tGpx0DuHpBj5",
        "outputId": "cb8ce85a-00c0-404b-adb4-13580791c971"
      },
      "execution_count": 6,
      "outputs": [
        {
          "output_type": "stream",
          "name": "stdout",
          "text": [
            "[2, 7, 10]\n"
          ]
        }
      ]
    },
    {
      "cell_type": "markdown",
      "source": [
        "# Infinite Generator (Even Numbers, first 5)"
      ],
      "metadata": {
        "id": "9hlrIFchqALk"
      }
    },
    {
      "cell_type": "code",
      "source": [
        "def even_numbers():\n",
        "    n = 0\n",
        "    while True:\n",
        "        yield n\n",
        "        n += 2\n",
        "\n",
        "gen = even_numbers()\n",
        "result = [next(gen) for _ in range(5)]\n",
        "print(result)"
      ],
      "metadata": {
        "colab": {
          "base_uri": "https://localhost:8080/"
        },
        "id": "xtK3VzUypzx0",
        "outputId": "e7ca9584-5308-4694-dc15-0013498a049d"
      },
      "execution_count": 7,
      "outputs": [
        {
          "output_type": "stream",
          "name": "stdout",
          "text": [
            "[0, 2, 4, 6, 8]\n"
          ]
        }
      ]
    }
  ]
}