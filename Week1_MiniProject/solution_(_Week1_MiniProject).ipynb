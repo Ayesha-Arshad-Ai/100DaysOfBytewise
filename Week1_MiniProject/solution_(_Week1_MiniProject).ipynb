{
  "nbformat": 4,
  "nbformat_minor": 0,
  "metadata": {
    "colab": {
      "provenance": []
    },
    "kernelspec": {
      "name": "python3",
      "display_name": "Python 3"
    },
    "language_info": {
      "name": "python"
    }
  },
  "cells": [
    {
      "cell_type": "markdown",
      "source": [
        "# Task 1: User Data Collector"
      ],
      "metadata": {
        "id": "zrYduhugS2Q0"
      }
    },
    {
      "cell_type": "code",
      "source": [
        "\n",
        "def collect_user_data():\n",
        "    print(\"Let's collect some info!\")\n",
        "    name = input(\"Name: \")\n",
        "    age = input(\"Age: \")\n",
        "    email = input(\"Email: \")\n",
        "    fav_num = input(\"Favorite Number: \")\n",
        "\n",
        "    if \"@\" in email and \".\" in email:\n",
        "        valid_email = email\n",
        "    else:\n",
        "        valid_email = \"Invalid email\"\n",
        "\n",
        "    data = {\"Name\": name, \"Age\": age, \"Email\": valid_email, \"Favorite Number\": fav_num}\n",
        "\n",
        "    print(\"\\nYour Data:\")\n",
        "    for key, value in data.items():\n",
        "        print(f\"{key}: {value}\")\n",
        "\n",
        "collect_user_data()\n",
        "\n"
      ],
      "metadata": {
        "colab": {
          "base_uri": "https://localhost:8080/"
        },
        "id": "1Du3wvvgRmJC",
        "outputId": "b23384f2-ce98-4567-b4cb-e8cf3c25b94f"
      },
      "execution_count": 3,
      "outputs": [
        {
          "output_type": "stream",
          "name": "stdout",
          "text": [
            "Let's collect some info!\n",
            "Name: ayesha\n",
            "Age: 14\n",
            "Email: 14\n",
            "Favorite Number: 14\n",
            "\n",
            "Your Data:\n",
            "Name: ayesha\n",
            "Age: 14\n",
            "Email: Invalid email\n",
            "Favorite Number: 14\n"
          ]
        }
      ]
    },
    {
      "cell_type": "markdown",
      "source": [
        "### Task 2: Even or Odd?"
      ],
      "metadata": {
        "id": "o9fpS9sDSx1C"
      }
    },
    {
      "cell_type": "code",
      "source": [
        "\n",
        "def is_even(num):\n",
        "    return num % 2 == 0\n",
        "\n",
        "try:\n",
        "    n = int(input(\"Enter a number: \"))\n",
        "    if is_even(n):\n",
        "        print(f\"{n} is even!\")\n",
        "    else:\n",
        "        print(f\"{n} is odd!\")\n",
        "except:\n",
        "    print(\"That wasn't a valid integer!\")\n"
      ],
      "metadata": {
        "colab": {
          "base_uri": "https://localhost:8080/"
        },
        "id": "rNpgjSFKRmL0",
        "outputId": "ecd86fa4-53c1-47cc-8fc0-7da0c40e30d1"
      },
      "execution_count": 4,
      "outputs": [
        {
          "output_type": "stream",
          "name": "stdout",
          "text": [
            "Enter a number: 2\n",
            "2 is even!\n"
          ]
        }
      ]
    },
    {
      "cell_type": "markdown",
      "source": [
        "# Task 3: Temperature Converter"
      ],
      "metadata": {
        "id": "KQMPQtwPTN89"
      }
    },
    {
      "cell_type": "code",
      "source": [
        "\n",
        "def convert_temperature(temp, scale):\n",
        "    if scale.upper() == \"C\":\n",
        "        return (temp * 9/5) + 32, \"F\"\n",
        "    elif scale.upper() == \"F\":\n",
        "        return (temp - 32) * 5/9, \"C\"\n",
        "    else:\n",
        "        return None, None\n",
        "\n",
        "try:\n",
        "    temp_value = float(input(\"Enter a temperature: \"))\n",
        "    scale = input(\"Is it in Celsius (C) or Fahrenheit (F)? \")\n",
        "    converted, target = convert_temperature(temp_value, scale)\n",
        "    if converted is None:\n",
        "        print(\"Please use 'C' or 'F'.\")\n",
        "    else:\n",
        "        print(f\"{temp_value}{scale.upper()} is {converted:.2f}{target}.\")\n",
        "except:\n",
        "    print(\"Invalid input!\")\n"
      ],
      "metadata": {
        "colab": {
          "base_uri": "https://localhost:8080/"
        },
        "id": "gDiS9rIGRmO0",
        "outputId": "e1fb63e8-ee4b-4980-987e-e9197d8e1a56"
      },
      "execution_count": 5,
      "outputs": [
        {
          "output_type": "stream",
          "name": "stdout",
          "text": [
            "Enter a temperature: 14\n",
            "Is it in Celsius (C) or Fahrenheit (F)? c\n",
            "14.0C is 57.20F.\n"
          ]
        }
      ]
    },
    {
      "cell_type": "markdown",
      "source": [
        "# Task 4: Finding Min & Max"
      ],
      "metadata": {
        "id": "NWmuc5gcTQ39"
      }
    },
    {
      "cell_type": "code",
      "source": [
        "\n",
        "numbers = []\n",
        "while len(numbers) < 5:\n",
        "    try:\n",
        "        num = float(input(f\"Enter number {len(numbers)+1} of 5: \"))\n",
        "        numbers.append(num)\n",
        "    except:\n",
        "        print(\"Please enter a valid number!\")\n",
        "print(\"Numbers:\", numbers)\n",
        "print(\"Minimum:\", min(numbers))\n",
        "print(\"Maximum:\", max(numbers))\n"
      ],
      "metadata": {
        "colab": {
          "base_uri": "https://localhost:8080/"
        },
        "id": "aY6TL0adRmRL",
        "outputId": "0e956638-c9e7-4691-abe1-88d9c0acb5fd"
      },
      "execution_count": 6,
      "outputs": [
        {
          "output_type": "stream",
          "name": "stdout",
          "text": [
            "Enter number 1 of 5: 4\n",
            "Enter number 2 of 5: 3\n",
            "Enter number 3 of 5: 4\n",
            "Enter number 4 of 5: 5\n",
            "Enter number 5 of 5: 5\n",
            "Numbers: [4.0, 3.0, 4.0, 5.0, 5.0]\n",
            "Minimum: 3.0\n",
            "Maximum: 5.0\n"
          ]
        }
      ]
    },
    {
      "cell_type": "markdown",
      "source": [
        "# Task 5: Student Data Manager"
      ],
      "metadata": {
        "id": "nIMCeFsQTTUN"
      }
    },
    {
      "cell_type": "code",
      "source": [
        "\n",
        "students = []\n",
        "for i in range(3):\n",
        "    print(f\"\\nStudent {i+1}\")\n",
        "    name = input(\"Name: \")\n",
        "    age = input(\"Age: \")\n",
        "    grade = input(\"Grade: \")\n",
        "    students.append((name, age, grade))\n",
        "\n",
        "student_dict = {name: (age, grade) for name, age, grade in students}\n",
        "print(\"\\nStudent Data:\")\n",
        "for name, (age, grade) in student_dict.items():\n",
        "    print(f\"{name}: Age {age}, Grade {grade}\")\n"
      ],
      "metadata": {
        "colab": {
          "base_uri": "https://localhost:8080/"
        },
        "id": "ccPpXSTNRmTs",
        "outputId": "fa365931-0f6b-48bd-d006-34611174b350"
      },
      "execution_count": 7,
      "outputs": [
        {
          "output_type": "stream",
          "name": "stdout",
          "text": [
            "\n",
            "Student 1\n",
            "Name: haris\n",
            "Age: 22\n",
            "Grade: 23\n",
            "\n",
            "Student 2\n",
            "Name: ayesha\n",
            "Age: 24\n",
            "Grade: 78\n",
            "\n",
            "Student 3\n",
            "Name: zee\n",
            "Age: 44\n",
            "Grade: 56\n",
            "\n",
            "Student Data:\n",
            "haris: Age 22, Grade 23\n",
            "ayesha: Age 24, Grade 78\n",
            "zee: Age 44, Grade 56\n"
          ]
        }
      ]
    },
    {
      "cell_type": "markdown",
      "source": [
        "# Task 6: Inventory Management System"
      ],
      "metadata": {
        "id": "8-t_9bZHTVRg"
      }
    },
    {
      "cell_type": "code",
      "source": [
        "\n",
        "def update_inventory(inv, item, change):\n",
        "    inv[item] = max(0, inv.get(item, 0) + change)\n",
        "    return inv\n",
        "\n",
        "inventory = {\"apple\": 10, \"banana\": 20, \"orange\": 15, \"grape\": 12, \"mango\": 8}\n",
        "print(\"Starting Inventory:\")\n",
        "for item, qty in inventory.items():\n",
        "    print(f\"{item}: {qty}\")\n",
        "\n",
        "for i in range(3):\n",
        "    print(f\"\\nUpdate {i+1}\")\n",
        "    item = input(\"Item name: \")\n",
        "    try:\n",
        "        change = int(input(\"Change (positive to add, negative to remove): \"))\n",
        "        inventory = update_inventory(inventory, item, change)\n",
        "    except:\n",
        "        print(\"Please enter a valid integer!\")\n",
        "print(\"\\nUpdated Inventory:\")\n",
        "for item, qty in inventory.items():\n",
        "    print(f\"{item}: {qty}\")\n"
      ],
      "metadata": {
        "colab": {
          "base_uri": "https://localhost:8080/"
        },
        "id": "XFWAtU11RmVz",
        "outputId": "d1e049f5-eeae-4558-e441-ae963ee8f321"
      },
      "execution_count": 10,
      "outputs": [
        {
          "output_type": "stream",
          "name": "stdout",
          "text": [
            "Starting Inventory:\n",
            "apple: 10\n",
            "banana: 20\n",
            "orange: 15\n",
            "grape: 12\n",
            "mango: 8\n",
            "\n",
            "Update 1\n",
            "Item name: apple\n",
            "Change (positive to add, negative to remove): 3\n",
            "\n",
            "Update 2\n",
            "Item name: mango\n",
            "Change (positive to add, negative to remove): 1\n",
            "\n",
            "Update 3\n",
            "Item name: grape\n",
            "Change (positive to add, negative to remove): 5\n",
            "\n",
            "Updated Inventory:\n",
            "apple: 13\n",
            "banana: 20\n",
            "orange: 15\n",
            "grape: 17\n",
            "mango: 9\n"
          ]
        }
      ]
    }
  ]
}